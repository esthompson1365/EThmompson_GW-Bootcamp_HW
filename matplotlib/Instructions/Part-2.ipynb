{
 "cells": [
  {
   "cell_type": "code",
   "execution_count": null,
   "metadata": {},
   "outputs": [],
   "source": [
    "%matplotlib notebook"
   ]
  },
  {
   "cell_type": "code",
   "execution_count": null,
   "metadata": {},
   "outputs": [],
   "source": [
    "from scipy.stats import sem"
   ]
  },
  {
   "cell_type": "markdown",
   "metadata": {},
   "source": []
  },
  {
   "cell_type": "code",
   "execution_count": null,
   "metadata": {},
   "outputs": [],
   "source": [
    "# Dependencies and Setup\n",
    "%matplotlib inline\n",
    "import matplotlib.pyplot as plt\n",
    "import pandas as pd\n",
    "import numpy as np\n",
    "\n",
    "# Hide warning messages in notebook\n",
    "import warnings\n",
    "warnings.filterwarnings('ignore')\n",
    "\n",
    "# File to Load (Remember to Change These)\n",
    "mouse_drug_data_to_load = \"data/mouse_drug_data.csv\"\n",
    "clinical_trial_data_to_load = \"data/clinicaltrial_data.csv\"\n",
    "\n",
    "# Read the Mouse and Drug Data and the Clinical Trial Data\n",
    "mouse_data = pd.read_csv(mouse_drug_data_to_load)\n",
    "clin_data = pd.read_csv(clinical_trial_data_to_load)\n",
    "\n",
    "#Combine the data into a single dataset\n",
    "combined = pd.merge(clin_data, mouse_data, on=\"Mouse ID\", how=\"left\")\n",
    "combined.head()\n",
    "\n",
    "# Display the data table for preview\n",
    "\n"
   ]
  },
  {
   "cell_type": "markdown",
   "metadata": {},
   "source": [
    "## Tumor Response to Treatment"
   ]
  },
  {
   "cell_type": "code",
   "execution_count": null,
   "metadata": {},
   "outputs": [],
   "source": [
    "tumor_df = combined.copy()\n",
    "combined.head()"
   ]
  },
  {
   "cell_type": "code",
   "execution_count": null,
   "metadata": {},
   "outputs": [],
   "source": [
    "# Store the Mean Tumor Volume Data Grouped by Drug and Timepoint \n",
    "tumor_vols_mean = combined.groupby([\"Drug\", \"Timepoint\"]).mean()[\"Tumor Volume (mm3)\"]\n",
    "tumor_vols_mean = pd.DataFrame(tumor_vols_mean)\n",
    "tumor_vols_mean = tumor_vols_mean.reset_index()"
   ]
  },
  {
   "cell_type": "code",
   "execution_count": null,
   "metadata": {},
   "outputs": [],
   "source": [
    "# Store the Standard Error of Tumor Volumes Grouped by Drug and Timepoint\n",
    "tumor_sem = combined.groupby([\"Drug\", \"Timepoint\"]).sem()[\"Tumor Volume (mm3)\"]\n",
    "\n",
    "# Convert to DataFrame\n",
    "tumor_sem = pd.DataFrame(tumor_vols_sem)\n",
    "\n",
    "# Preview DataFrame\n",
    "tumor_sem.head().reset_index()"
   ]
  },
  {
   "cell_type": "code",
   "execution_count": null,
   "metadata": {},
   "outputs": [],
   "source": [
    "new_piv_mean=tumor_vols_mean.pivot_table(index = \"Timepoint\", columns = \"Drug\",values = \"Tumor Volume (mm3)\")\n",
    "# Preview that Reformatting worked\n",
    "new_piv_mean.head()"
   ]
  },
  {
   "cell_type": "code",
   "execution_count": null,
   "metadata": {},
   "outputs": [],
   "source": [
    "# Minor Data Munging to Re-Format the Data Frames\n",
    "new_piv_sem= tumor_sem.pivot_table(index = \"Timepoint\", columns = \"Drug\",values = \"Tumor Volume (mm3)\")\n",
    "# Preview that Reformatting worked\n",
    "new_piv_sem.head()"
   ]
  },
  {
   "cell_type": "code",
   "execution_count": null,
   "metadata": {},
   "outputs": [],
   "source": [
    "# Generate the Plot (with Error Bars)\n",
    "plt.errorbar(new_piv_mean.index, new_piv_mean[\"Capomulin\"], yerr=new_piv_sem[\"Capomulin\"], color=\"r\", marker=\"o\", markersize=5, linestyle=\"dashed\", linewidth=0.50)\n",
    "plt.errorbar(new_piv_mean.index, new_piv_mean[\"Infubinol\"], yerr=new_piv_sem[\"Infubinol\"], color=\"b\", marker=\"^\", markersize=5, linestyle=\"dashed\", linewidth=0.50)\n",
    "plt.errorbar(new_piv_mean.index, new_piv_mean[\"Ketapril\"], yerr=new_piv_sem[\"Ketapril\"], color=\"g\", marker=\"s\", markersize=5, linestyle=\"dashed\", linewidth=0.50)\n",
    "plt.errorbar(new_piv_mean.index, new_piv_mean[\"Placebo\"], yerr=new_piv_sem[\"Placebo\"], color=\"k\", marker=\"d\", markersize=5, linestyle=\"dashed\", linewidth=0.50)\n",
    "\n",
    "plt.title(\"Tumor Response to Treatment\")\n",
    "plt.ylabel(\"Tumor Volume (mm3)\")\n",
    "plt.xlabel(\"Time (Days)\")\n",
    "plt.grid(axis='y')\n",
    "plt.legend(['Capomulin', 'Infubinol', 'Ketapril', 'Placebo'],loc=\"best\", fontsize=\"small\", fancybox=True)\n",
    "\n",
    "# Save the Figure\n",
    "plt.savefig('mousey.png')\n",
    "\n",
    "# Show the Figure\n",
    "plt.show()"
   ]
  },
  {
   "cell_type": "markdown",
   "metadata": {},
   "source": [
    "![Tumor Response to Treatment](../Images/treatment.png)"
   ]
  },
  {
   "cell_type": "markdown",
   "metadata": {},
   "source": [
    "## Metastatic Response to Treatment"
   ]
  },
  {
   "cell_type": "code",
   "execution_count": null,
   "metadata": {},
   "outputs": [],
   "source": [
    "\n",
    "combined.head()\n"
   ]
  },
  {
   "cell_type": "code",
   "execution_count": null,
   "metadata": {},
   "outputs": [],
   "source": [
    "# Store the Mean Met. Site Data Grouped by Drug and Timepoint \n",
    "#meta_trial = combined[[\"Timepoint\",\"Drug\", \"Metastatic Sites\"]]\n",
    "#meta_trial.head()\n",
    "\n",
    "#meta_df[\"Meta Av\"] = combined.groupby(['Drug', \"Timepoint\"])[[\"Metastatic Sites\"]].mean()\n",
    "#meta_df.head()\n",
    "# Convert to DataFrame\n",
    "\n",
    "# Preview DataFrame\n",
    "meta_mean = combined.groupby([\"Drug\", \"Timepoint\"]).mean()[\"Metastatic Sites\"]\n",
    "meta_mean = pd.DataFrame(meta_mean)\n",
    "meta_mean = meta_mean.reset_index()\n",
    "meta_mean.head()\n"
   ]
  },
  {
   "cell_type": "code",
   "execution_count": null,
   "metadata": {},
   "outputs": [],
   "source": [
    "# Store the Standard Error associated with Met. Sites Grouped by Drug and Timepoint \n",
    "meta_sem = combined.groupby([\"Drug\", \"Timepoint\"]).sem()[\"Metastatic Sites\"]\n",
    "# Convert to DataFrame\n",
    "meta_sem = pd.DataFrame(meta_sem)\n",
    "meta_sem = meta_sem.reset_index()\n",
    "# Preview DataFrame\n",
    "meta_sem.head()"
   ]
  },
  {
   "cell_type": "code",
   "execution_count": null,
   "metadata": {},
   "outputs": [],
   "source": [
    "meta_mean_piv=meta_mean.pivot_table(index = \"Timepoint\", columns = \"Drug\",values = \"Metastatic Sites\")\n",
    "meta_mean_piv.head()"
   ]
  },
  {
   "cell_type": "code",
   "execution_count": null,
   "metadata": {},
   "outputs": [],
   "source": [
    "\n",
    "# Minor Data Munging to Re-Format the Data Frames\n",
    "meta_piv= meta_sem.pivot_table(index = \"Timepoint\", columns = \"Drug\",values = \"Metastatic Sites\")\n",
    "# Preview that Reformatting worked\n",
    "meta_piv.head()\n",
    "\n"
   ]
  },
  {
   "cell_type": "code",
   "execution_count": null,
   "metadata": {},
   "outputs": [],
   "source": [
    "# Generate the Plot (with Error Bars)\n",
    "plt.errorbar(meta_mean_piv.index, meta_mean_piv[\"Capomulin\"], yerr=meta_piv[\"Capomulin\"], color=\"r\", marker=\"o\", markersize=5, linestyle=\"dashed\", linewidth=0.50)\n",
    "plt.errorbar(meta_mean_piv.index, meta_mean_piv[\"Infubinol\"], yerr=meta_piv[\"Infubinol\"], color=\"b\", marker=\"^\", markersize=5, linestyle=\"dashed\", linewidth=0.50)\n",
    "plt.errorbar(meta_mean_piv.index, meta_mean_piv[\"Ketapril\"], yerr=meta_piv[\"Ketapril\"], color=\"g\", marker=\"s\", markersize=5, linestyle=\"dashed\", linewidth=0.50)\n",
    "plt.errorbar(meta_mean_piv.index, meta_mean_piv[\"Placebo\"], yerr=meta_piv[\"Placebo\"], color=\"k\", marker=\"d\", markersize=5, linestyle=\"dashed\", linewidth=0.50)\n",
    "\n",
    "plt.title(\"Metastatic Spread During Treatment\")\n",
    "plt.ylabel(\"Met Sites\")\n",
    "plt.xlabel(\"Treatment Duration (Days)\")\n",
    "plt.grid(axis='y')\n",
    "plt.legend(['Capomulin', 'Infubinol', 'Ketapril', 'Placebo'],loc=\"best\", fontsize=\"small\", fancybox=True)\n",
    "\n",
    "# Save the Figure\n",
    "plt.savefig('mouse_meta.png')\n",
    "\n",
    "# Show the Figure\n",
    "plt.show()"
   ]
  },
  {
   "cell_type": "markdown",
   "metadata": {},
   "source": [
    "![Metastatic Spread During Treatment](../Images/spread.png)"
   ]
  },
  {
   "cell_type": "markdown",
   "metadata": {},
   "source": [
    "## Survival Rates"
   ]
  },
  {
   "cell_type": "code",
   "execution_count": null,
   "metadata": {},
   "outputs": [],
   "source": [
    "tumor_df.head()"
   ]
  },
  {
   "cell_type": "code",
   "execution_count": null,
   "metadata": {},
   "outputs": [],
   "source": [
    "# Store the Count of Mice Grouped by Drug and Timepoint (W can pass any metric)\n",
    "mouse_count[\"Mouse Count\"] = combined.groupby(['Drug', \"Timepoint\"])[[\"Mouse ID\"]].count()\n",
    "del mouse_count[\"Mouse ID\"]\n",
    "mouse_count.head()\n",
    "# Convert to DataFrame\n",
    "\n",
    "# Preview DataFrame\n"
   ]
  },
  {
   "cell_type": "code",
   "execution_count": null,
   "metadata": {},
   "outputs": [],
   "source": [
    "# Minor Data Munging to Re-Format the Data Frames\n",
    "mouse_piv= mouse_count.pivot_table(index =\"Timepoint\" , columns = \"Drug\",values = \"Mouse Count\")\n",
    "# Preview that Reformatting worked\n",
    "mouse_piv.head()"
   ]
  },
  {
   "cell_type": "code",
   "execution_count": null,
   "metadata": {},
   "outputs": [],
   "source": [
    "mouse_piv.reset_index()"
   ]
  },
  {
   "cell_type": "code",
   "execution_count": null,
   "metadata": {},
   "outputs": [],
   "source": [
    "#find max mouse count and divide by? get survival percentage?\n",
    "\n",
    "#mouse_piv[\"% Survival\"]=mouse_piv.grouby([[\"Drug\"][\"Timepoint\"]])/"
   ]
  },
  {
   "cell_type": "code",
   "execution_count": null,
   "metadata": {},
   "outputs": [],
   "source": [
    "# Generate the Plot (Accounting for percentages)\n",
    "plt.plot(100 * mouse_piv[\"Capomulin\"] / 25, \"ro\", linestyle=\"dashed\", markersize=5, linewidth=0.50)\n",
    "plt.plot(100 * mouse_piv[\"Infubinol\"] / 25, \"b^\", linestyle=\"dashed\", markersize=5, linewidth=0.50)\n",
    "plt.plot(100 * mouse_piv[\"Ketapril\"] / 25, \"gs\", linestyle=\"dashed\", markersize=5, linewidth=0.50)\n",
    "plt.plot(100 * mouse_piv[\"Placebo\"] / 25 , \"kd\", linestyle=\"dashed\", markersize=6, linewidth=0.50)\n",
    "plt.title(\"Survival During Treatment\")\n",
    "plt.ylabel(\"Survival Rate (%)\")\n",
    "plt.xlabel(\"Time (Days)\")\n",
    "plt.grid(True)\n",
    "plt.legend(['Capomulin', 'Infubinol', 'Ketapril', 'Placebo'], loc=\"best\", fontsize=\"small\", fancybox=True)\n",
    "\n",
    "# Save the Figure\n",
    "plt.savefig(\"MouseVitality.png\")\n",
    "\n",
    "# Show the Figure\n",
    "plt.show()"
   ]
  },
  {
   "cell_type": "markdown",
   "metadata": {},
   "source": [
    "![Metastatic Spread During Treatment](../Images/survival.png)"
   ]
  },
  {
   "cell_type": "markdown",
   "metadata": {},
   "source": [
    "## Summary Bar Graph"
   ]
  },
  {
   "cell_type": "code",
   "execution_count": null,
   "metadata": {},
   "outputs": [],
   "source": [
    "new_piv_mean\n",
    "new_piv_sem\n",
    "tumor_pct_change =  100 * (new_piv_mean.iloc[-1] - new_piv_mean.iloc[0]) / new_piv_mean.iloc[0]\n",
    "tumor_pct_change_sem =  100 * (new_piv_sem.iloc[-1] - new_piv_sem.iloc[0]) / new_piv_sem.iloc[0]\n",
    "\n",
    "# Display the data to confirm\n",
    "tumor_pct_change\n"
   ]
  },
  {
   "cell_type": "code",
   "execution_count": null,
   "metadata": {},
   "outputs": [],
   "source": [
    "# Store all Relevant Percent Changes into a Tuple\n",
    "pct_changes = (tumor_pct_change[\"Capomulin\"], \n",
    "               tumor_pct_change[\"Infubinol\"], \n",
    "               tumor_pct_change[\"Ketapril\"], \n",
    "               tumor_pct_change[\"Placebo\"])\n",
    "\n",
    "# Splice the data between passing and failing drugs\n",
    "fig, ax = plt.subplots()\n",
    "ind = np.arange(len(pct_changes))  \n",
    "width = 1\n",
    "rectsPass = ax.bar(ind[0], pct_changes[0], width, color='green')\n",
    "rectsFail = ax.bar(ind[1:], pct_changes[1:], width, color='red')\n",
    "\n",
    "# Orient widths. Add labels, tick marks, etc. \n",
    "ax.set_ylabel('% Tumor Volume Change')\n",
    "ax.set_title('Tumor Change Over 45 Day Treatment')\n",
    "ax.set_xticks(ind + 0.5)\n",
    "ax.set_xticklabels(('Capomulin', 'Infubinol', 'Ketapril', 'Placebo'))\n",
    "ax.set_autoscaley_on(False)\n",
    "ax.set_ylim([-30,70])\n",
    "ax.grid(True)\n",
    "\n",
    "# Use functions to label the percentages of changes\n",
    "def autolabelFail(rects):\n",
    "    for rect in rects:\n",
    "        height = rect.get_height()\n",
    "        ax.text(rect.get_x() + rect.get_width()/2., 3,\n",
    "                '%d%%' % int(height),\n",
    "                ha='center', va='bottom', color=\"white\")\n",
    "\n",
    "def autolabelPass(rects):\n",
    "    for rect in rects:\n",
    "        height = rect.get_height()\n",
    "        ax.text(rect.get_x() + rect.get_width()/2., -8,\n",
    "                '-%d%% ' % int(height),\n",
    "                ha='center', va='bottom', color=\"white\")\n",
    "\n",
    "# Call functions to implement the function calls\n",
    "autolabelPass(rectsPass)\n",
    "autolabelFail(rectsFail)\n",
    "\n",
    "# Save the Figure\n",
    "fig.savefig(\"Final Analysis\")\n",
    "\n",
    "# Show the Figure\n",
    "fig.show()"
   ]
  },
  {
   "cell_type": "markdown",
   "metadata": {},
   "source": [
    "![Metastatic Spread During Treatment](../Images/change.png)"
   ]
  },
  {
   "cell_type": "code",
   "execution_count": null,
   "metadata": {},
   "outputs": [],
   "source": []
  }
 ],
 "metadata": {
  "anaconda-cloud": {},
  "kernelspec": {
   "display_name": "Python 3",
   "language": "python",
   "name": "python3"
  },
  "language_info": {
   "codemirror_mode": {
    "name": "ipython",
    "version": 3
   },
   "file_extension": ".py",
   "mimetype": "text/x-python",
   "name": "python",
   "nbconvert_exporter": "python",
   "pygments_lexer": "ipython3",
   "version": "3.7.3"
  }
 },
 "nbformat": 4,
 "nbformat_minor": 1
}
